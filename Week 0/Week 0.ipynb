{
 "cells": [
  {
   "cell_type": "markdown",
   "id": "f804234c",
   "metadata": {},
   "source": [
    "### Week 0 - Préparer son environnement Python"
   ]
  },
  {
   "cell_type": "markdown",
   "id": "e1c742b8",
   "metadata": {},
   "source": [
    "#### Objectifs\n",
    "- Créer un environnement virtuel dédié au projet\n",
    "- Installer les bibliothèques nécessaires pour lire, écrire et formater des fichiers Excel\n",
    "- Tester que l'installation fonctionne correctement"
   ]
  },
  {
   "cell_type": "markdown",
   "id": "cd836616",
   "metadata": {},
   "source": [
    "#### Créer un environnement virtuel\n",
    "Dans le terminal VS Code :\n",
    "```bash\n",
    "python -m venv .venv\n",
    "```\n",
    "Puis, pour l’activer :\n",
    "```bash\n",
    "source .venv/bin/activate\n",
    "```\n",
    "Un `venv` isole ton projet Python :\n",
    "- Pas de conflit entre bibliothèques\n",
    "- Chaque projet a ses propres dépendances\n",
    "- Ton système reste propre"
   ]
  },
  {
   "cell_type": "markdown",
   "id": "f8fdc261",
   "metadata": {},
   "source": [
    "#### Installation des bibliothèques\n",
    "Toujours dans le terminal, exécuter :\n",
    "```bash\n",
    "pip install pandas openpyxl xlsxwriter\n",
    "```\n",
    "Ces bibliothèques servent à :\n",
    "- pandas : manipuler les données (comme des tableaux Excel)\n",
    "- openpyxl : lire/écrire dans des fichiers Excel .xlsx\n",
    "- xlsxwriter : créer des fichiers Excel avancés (avec graphiques, formats)"
   ]
  },
  {
   "cell_type": "markdown",
   "id": "caca5152",
   "metadata": {},
   "source": [
    "#### Générer un fichier Excel simple\n",
    "```python\n",
    "import pandas as pd\n",
    "\n",
    "# Créer un tableau\n",
    "df = pd.DataFrame({\n",
    "    \"Employee\": [\"Alice\", \"Charlie\"],\n",
    "    \"Age\": [23, 37],\n",
    "    \"Salaire_net\": [35000, 60000]\n",
    "})\n",
    "\n",
    "# Exporter vers un fichier Excel\n",
    "df.to_excel(\"Nomdufichier.xlsx\", index=False, engine=\"openpyxl\")\n",
    "\n",
    "# Afficher le DataFrame\n",
    "df"
   ]
  }
 ],
 "metadata": {
  "kernelspec": {
   "display_name": "Python 3",
   "language": "python",
   "name": "python3"
  },
  "language_info": {
   "codemirror_mode": {
    "name": "ipython",
    "version": 3
   },
   "file_extension": ".py",
   "mimetype": "text/x-python",
   "name": "python",
   "nbconvert_exporter": "python",
   "pygments_lexer": "ipython3",
   "version": "3.12.8"
  }
 },
 "nbformat": 4,
 "nbformat_minor": 5
}
