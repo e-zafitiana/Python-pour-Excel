{
 "cells": [
  {
   "cell_type": "markdown",
   "id": "f804234c",
   "metadata": {},
   "source": [
    "### Week 0 - Préparer son environnement Python"
   ]
  },
  {
   "cell_type": "markdown",
   "id": "e1c742b8",
   "metadata": {},
   "source": [
    "#### Objectifs\n",
    "- Créer un environnement virtuel dédié au projet\n",
    "- Installer les bibliothèques nécessaires pour lire, écrire et formater des fichiers Excel\n",
    "- Tester que l'installation fonctionne correctement"
   ]
  },
  {
   "cell_type": "markdown",
   "id": "cd836616",
   "metadata": {},
   "source": [
    "#### Créer un environnement virtuel\n",
    "Un `venv` isole ton projet Python :\n",
    "- Pas de conflit entre bibliothèques\n",
    "- Chaque projet a ses propres dépendances\n",
    "- Ton système reste propre\n",
    "\n",
    "**Notebook Jupyter** : Pas besoin d’activer `.venv`, mais vérifie que le **kernel** utilisé est bien celui de ton projet.\n",
    "\n",
    "Dans le terminal VS Code, PyCharm :\n",
    "```bash\n",
    "python -m venv .venv\n",
    "```\n",
    "Puis, pour l’activer :\n",
    "```bash\n",
    "source .venv/bin/activate\n",
    "```"
   ]
  },
  {
   "cell_type": "markdown",
   "id": "f8fdc261",
   "metadata": {},
   "source": [
    "#### Installation des bibliothèques"
   ]
  },
  {
   "cell_type": "code",
   "execution_count": 9,
   "id": "a8bb0a0c",
   "metadata": {},
   "outputs": [
    {
     "name": "stdout",
     "output_type": "stream",
     "text": [
      "Requirement already satisfied: pandas in /Library/Frameworks/Python.framework/Versions/3.12/lib/python3.12/site-packages (2.2.3)\n",
      "Requirement already satisfied: openpyxl in /Library/Frameworks/Python.framework/Versions/3.12/lib/python3.12/site-packages (3.1.5)\n",
      "Requirement already satisfied: XlsxWriter in /Library/Frameworks/Python.framework/Versions/3.12/lib/python3.12/site-packages (3.2.3)\n",
      "Requirement already satisfied: numpy>=1.26.0 in /Library/Frameworks/Python.framework/Versions/3.12/lib/python3.12/site-packages (from pandas) (2.2.2)\n",
      "Requirement already satisfied: python-dateutil>=2.8.2 in /Library/Frameworks/Python.framework/Versions/3.12/lib/python3.12/site-packages (from pandas) (2.9.0.post0)\n",
      "Requirement already satisfied: pytz>=2020.1 in /Library/Frameworks/Python.framework/Versions/3.12/lib/python3.12/site-packages (from pandas) (2025.1)\n",
      "Requirement already satisfied: tzdata>=2022.7 in /Library/Frameworks/Python.framework/Versions/3.12/lib/python3.12/site-packages (from pandas) (2025.1)\n",
      "Requirement already satisfied: et-xmlfile in /Library/Frameworks/Python.framework/Versions/3.12/lib/python3.12/site-packages (from openpyxl) (2.0.0)\n",
      "Requirement already satisfied: six>=1.5 in /Library/Frameworks/Python.framework/Versions/3.12/lib/python3.12/site-packages (from python-dateutil>=2.8.2->pandas) (1.17.0)\n",
      "\n",
      "\u001b[1m[\u001b[0m\u001b[34;49mnotice\u001b[0m\u001b[1;39;49m]\u001b[0m\u001b[39;49m A new release of pip is available: \u001b[0m\u001b[31;49m24.3.1\u001b[0m\u001b[39;49m -> \u001b[0m\u001b[32;49m25.1.1\u001b[0m\n",
      "\u001b[1m[\u001b[0m\u001b[34;49mnotice\u001b[0m\u001b[1;39;49m]\u001b[0m\u001b[39;49m To update, run: \u001b[0m\u001b[32;49mpip3 install --upgrade pip\u001b[0m\n",
      "Note: you may need to restart the kernel to use updated packages.\n"
     ]
    }
   ],
   "source": [
    "pip install pandas openpyxl XlsxWriter"
   ]
  },
  {
   "cell_type": "markdown",
   "id": "97f19e73",
   "metadata": {},
   "source": [
    "Ces bibliothèques servent à :\n",
    "- pandas : manipuler les données (comme des tableaux Excel)\n",
    "- openpyxl : lire/écrire dans des fichiers Excel .xlsx\n",
    "- xlsxwriter : créer des fichiers Excel avancés (avec graphiques, formats)"
   ]
  },
  {
   "cell_type": "markdown",
   "id": "caca5152",
   "metadata": {},
   "source": [
    "#### Générer un fichier Excel simple"
   ]
  },
  {
   "cell_type": "code",
   "execution_count": 12,
   "id": "1e0835a9",
   "metadata": {},
   "outputs": [
    {
     "data": {
      "text/html": [
       "<div>\n",
       "<style scoped>\n",
       "    .dataframe tbody tr th:only-of-type {\n",
       "        vertical-align: middle;\n",
       "    }\n",
       "\n",
       "    .dataframe tbody tr th {\n",
       "        vertical-align: top;\n",
       "    }\n",
       "\n",
       "    .dataframe thead th {\n",
       "        text-align: right;\n",
       "    }\n",
       "</style>\n",
       "<table border=\"1\" class=\"dataframe\">\n",
       "  <thead>\n",
       "    <tr style=\"text-align: right;\">\n",
       "      <th></th>\n",
       "      <th>Nom</th>\n",
       "      <th>Age</th>\n",
       "      <th>Salaire_net</th>\n",
       "    </tr>\n",
       "  </thead>\n",
       "  <tbody>\n",
       "    <tr>\n",
       "      <th>0</th>\n",
       "      <td>Alice</td>\n",
       "      <td>23</td>\n",
       "      <td>35000</td>\n",
       "    </tr>\n",
       "    <tr>\n",
       "      <th>1</th>\n",
       "      <td>Charlie</td>\n",
       "      <td>37</td>\n",
       "      <td>60000</td>\n",
       "    </tr>\n",
       "  </tbody>\n",
       "</table>\n",
       "</div>"
      ],
      "text/plain": [
       "       Nom  Age  Salaire_net\n",
       "0    Alice   23        35000\n",
       "1  Charlie   37        60000"
      ]
     },
     "execution_count": 12,
     "metadata": {},
     "output_type": "execute_result"
    }
   ],
   "source": [
    "\n",
    "import pandas as pd\n",
    "# Créer un tableau\n",
    "df = pd.DataFrame({\n",
    "    \"Nom\": [\"Alice\", \"Charlie\"],\n",
    "    \"Age\": [23, 37],\n",
    "    \"Salaire_net\": [35000, 60000]\n",
    "})\n",
    "# Exporter vers un fichier Excel\n",
    "df.to_excel(\"Week 0.xlsx\", index=False, engine=\"openpyxl\")\n",
    "# Afficher le DataFrame\n",
    "df"
   ]
  },
  {
   "cell_type": "markdown",
   "id": "2499fea7",
   "metadata": {},
   "source": [
    "#### Sauvegarder les dépendances"
   ]
  },
  {
   "cell_type": "code",
   "execution_count": 11,
   "id": "ec8243f7",
   "metadata": {},
   "outputs": [
    {
     "name": "stdout",
     "output_type": "stream",
     "text": [
      "Note: you may need to restart the kernel to use updated packages.\n"
     ]
    }
   ],
   "source": [
    "pip freeze > requirements.txt"
   ]
  }
 ],
 "metadata": {
  "kernelspec": {
   "display_name": "Python 3",
   "language": "python",
   "name": "python3"
  },
  "language_info": {
   "codemirror_mode": {
    "name": "ipython",
    "version": 3
   },
   "file_extension": ".py",
   "mimetype": "text/x-python",
   "name": "python",
   "nbconvert_exporter": "python",
   "pygments_lexer": "ipython3",
   "version": "3.12.8"
  }
 },
 "nbformat": 4,
 "nbformat_minor": 5
}
