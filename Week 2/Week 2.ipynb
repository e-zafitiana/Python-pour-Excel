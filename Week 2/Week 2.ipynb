{
 "cells": [
  {
   "cell_type": "markdown",
   "id": "4aed8858",
   "metadata": {},
   "source": [
    "### Week 2 – Manipulation et formatage avancé de fichiers Excel"
   ]
  },
  {
   "cell_type": "markdown",
   "id": "9a59e0e4",
   "metadata": {
    "vscode": {
     "languageId": "plaintext"
    }
   },
   "source": [
    "#### Objectifs\n",
    "- Insérer des formules Excel depuis Python\n",
    "- Contrôler les plages de cellules (sélection de lignes, colonnes, zones)\n",
    "- Appliquer des formats : gras, couleurs, formats monétaires\n",
    "- Générer des tableaux Excel professionnels automatiquement"
   ]
  },
  {
   "cell_type": "markdown",
   "id": "682db52e",
   "metadata": {},
   "source": [
    "#### Chargement d’un fichier Excel avec openpyxl"
   ]
  },
  {
   "cell_type": "code",
   "execution_count": 43,
   "id": "048290a6",
   "metadata": {},
   "outputs": [
    {
     "name": "stdout",
     "output_type": "stream",
     "text": [
      "Feuille active : Sheet1\n",
      "Nouveau nom de feuille active : Données employés\n"
     ]
    }
   ],
   "source": [
    "from openpyxl import load_workbook\n",
    "import pandas as pd\n",
    "# Charger le fichier Excel\n",
    "wb = load_workbook(\"Week 1 V2.xlsx\")\n",
    "ws = wb.active\n",
    "# Afficher le nom de la feuille active\n",
    "print(\"Feuille active :\", ws.title)\n",
    "# Renommer la feuille\n",
    "ws.title = \"Données employés\"\n",
    "# Vérifier le changement\n",
    "print(\"Nouveau nom de feuille active :\", ws.title)\n",
    "df.to_excel(\"Week 1.xlsx\", sheet_name=\"Données employés\", index=False)\n",
    "wb.save(\"Week 1 V2.xlsx\")"
   ]
  },
  {
   "cell_type": "markdown",
   "id": "c93a47c9",
   "metadata": {},
   "source": [
    "#### Sélection de cellules, lignes et colonnes\n",
    "En `openpyxl`, on peut sélectionner :\n",
    "\n",
    "- Une cellule : `ws[\"B2\"]`\n",
    "- Une ligne : `ws[2]` ou `ws.iter_rows(min_row=2, max_row=2)`\n",
    "- Une colonne : `ws[\"B\"]`\n",
    "- Une plage : `ws[\"A2:C5\"]` (plage rectangulaire)"
   ]
  },
  {
   "cell_type": "code",
   "execution_count": 33,
   "id": "94bb916b",
   "metadata": {},
   "outputs": [
    {
     "name": "stdout",
     "output_type": "stream",
     "text": [
      "B2 : 23\n",
      "['Alice', 23, 35000]\n",
      "['Charlie', 37, 60000]\n",
      "Salaire_net\n",
      "35000\n",
      "60000\n"
     ]
    }
   ],
   "source": [
    "# Une cellule\n",
    "cellule = ws[\"B2\"]\n",
    "print(\"B2 :\", cellule.value)\n",
    "# Une plage de cellules\n",
    "plage = ws[\"A2:C3\"]\n",
    "for row in plage:\n",
    "    print([cell.value for cell in row])\n",
    "# Une colonne entière\n",
    "for cell in ws[\"C\"]:\n",
    "    # Sans les cellules vides\n",
    "    if cell.value is not None:\n",
    "        print(cell.value)"
   ]
  },
  {
   "cell_type": "code",
   "execution_count": 34,
   "id": "671c3e08",
   "metadata": {},
   "outputs": [
    {
     "name": "stdout",
     "output_type": "stream",
     "text": [
      "Colonne 'Salaire_brut' déjà présente, pas de modification.\n"
     ]
    }
   ],
   "source": [
    "# Vérifie si la cellule D1 contient déjà l'en-tête \"Salaire_brut\"\n",
    "if ws[\"D1\"].value != \"Salaire_brut\":\n",
    "    ws[\"D1\"] = \"Salaire_brut\"\n",
    "    # Applique la formule dans toute les lignes de la colonne D\n",
    "    for y in range(2, ws.max_y + 1):\n",
    "        ws[f\"D{y}\"] = f\"=C{y}*1.25\"\n",
    "else:\n",
    "    print(f\"Colonne '{ws['D1'].value}' déjà présente, pas de modification.\")"
   ]
  },
  {
   "cell_type": "markdown",
   "id": "f38e047e",
   "metadata": {},
   "source": [
    "Remarque :\n",
    "- y est une variable temporaire qui va prendre les valeurs 2, 3, 4, … jusqu’à ws.max_y.\n",
    "- Ce nom n’a pas d’importance fonctionnelle, tant que tu l’utilises de manière cohérente dans le bloc de la boucle."
   ]
  },
  {
   "cell_type": "markdown",
   "id": "1e586648",
   "metadata": {},
   "source": [
    "#### Gérer les feuilles Excel avec `openpyxl`"
   ]
  },
  {
   "cell_type": "markdown",
   "id": "7c12728f",
   "metadata": {},
   "source": [
    "- Créer une nouvelle feuille : `wb.create_sheet(\"Nom\")`\n",
    "- Dupliquer une feuille : `wb.copy_worksheet(feuille)`\n",
    "- Supprimer une feuille : `wb.remove(feuille)`"
   ]
  },
  {
   "cell_type": "code",
   "execution_count": 63,
   "id": "bb12c921",
   "metadata": {},
   "outputs": [
    {
     "name": "stdout",
     "output_type": "stream",
     "text": [
      "['Données employés', 'Résumé']\n",
      "Après duplication : ['Données employés', 'Résumé', 'Copie Résumé']\n",
      "Après suppression : ['Données employés', 'Résumé']\n",
      "dict_keys(['Données employés', 'Résumé'])\n"
     ]
    }
   ],
   "source": [
    "from openpyxl import load_workbook\n",
    "import pandas as pd\n",
    "\n",
    "# Charger le fichier\n",
    "wb = load_workbook(\"Week 1 v2.xlsx\")\n",
    "\n",
    "# Créer une nouvelle feuille vide\n",
    "new_sheet = wb.create_sheet(\"Résumé\")\n",
    "print(wb.sheetnames)\n",
    "\n",
    "# Dupliquer une feuille existante\n",
    "copie = wb.copy_worksheet(wb[\"Résumé\"])\n",
    "copie.title = \"Copie Résumé\"\n",
    "print(\"Après duplication :\", wb.sheetnames)\n",
    "\n",
    "# Supprimer une feuille (exemple : copie inutile)\n",
    "wb.remove(copie)\n",
    "print(\"Après suppression :\", wb.sheetnames)\n",
    "\n",
    "# Sauvegarder le classeur\n",
    "wb.save(\"Week 2.xlsx\")\n",
    "\n",
    "# Voir la liste des onglets\n",
    "xls = pd.read_excel(\"Week 2.xlsx\", sheet_name=None, engine=\"openpyxl\")\n",
    "print(xls.keys())"
   ]
  },
  {
   "cell_type": "markdown",
   "id": "344988a6",
   "metadata": {},
   "source": [
    "Remarque :\n",
    "\n",
    "Différence entre `wb.sheetnames` et `xls.keys()`\n",
    "\n",
    "`wb.sheetnames` (avec openpyxl)  \n",
    "- Liste les noms des feuilles sans les lire  \n",
    "- Sert à renommer, supprimer ou organiser les onglets"
   ]
  },
  {
   "cell_type": "code",
   "execution_count": 85,
   "id": "9e7acb36",
   "metadata": {},
   "outputs": [
    {
     "name": "stdout",
     "output_type": "stream",
     "text": [
      "['Données employés', 'Résumé']\n",
      "['Données employés', 'Synthèse']\n"
     ]
    }
   ],
   "source": [
    "from openpyxl import load_workbook\n",
    "wb = load_workbook(\"Week 2.xlsx\")\n",
    "print(wb.sheetnames)\n",
    "wb[\"Résumé\"].title = \"Synthèse\"\n",
    "print(wb.sheetnames)"
   ]
  },
  {
   "cell_type": "markdown",
   "id": "48606c94",
   "metadata": {},
   "source": [
    "`xls.keys()` (avec pandas et sheet_name=None)  \n",
    "- Liste les feuilles déjà chargées comme DataFrame  \n",
    "- Sert à accéder aux données de chaque onglet"
   ]
  },
  {
   "cell_type": "code",
   "execution_count": 82,
   "id": "08738f76",
   "metadata": {},
   "outputs": [
    {
     "name": "stdout",
     "output_type": "stream",
     "text": [
      "dict_keys(['Données employés', 'Résumé'])\n"
     ]
    }
   ],
   "source": [
    "xls = pd.read_excel(\"Week 2.xlsx\", sheet_name=None)\n",
    "print(xls.keys())"
   ]
  },
  {
   "cell_type": "code",
   "execution_count": 88,
   "id": "ee833c47",
   "metadata": {},
   "outputs": [
    {
     "data": {
      "text/html": [
       "<div>\n",
       "<style scoped>\n",
       "    .dataframe tbody tr th:only-of-type {\n",
       "        vertical-align: middle;\n",
       "    }\n",
       "\n",
       "    .dataframe tbody tr th {\n",
       "        vertical-align: top;\n",
       "    }\n",
       "\n",
       "    .dataframe thead th {\n",
       "        text-align: right;\n",
       "    }\n",
       "</style>\n",
       "<table border=\"1\" class=\"dataframe\">\n",
       "  <thead>\n",
       "    <tr style=\"text-align: right;\">\n",
       "      <th></th>\n",
       "      <th>Nom</th>\n",
       "      <th>Age</th>\n",
       "      <th>Salaire_net</th>\n",
       "      <th>Charge (%)</th>\n",
       "      <th>Salaire_brut</th>\n",
       "    </tr>\n",
       "  </thead>\n",
       "  <tbody>\n",
       "    <tr>\n",
       "      <th>0</th>\n",
       "      <td>Alice</td>\n",
       "      <td>23</td>\n",
       "      <td>35000</td>\n",
       "      <td>0.25</td>\n",
       "      <td>NaN</td>\n",
       "    </tr>\n",
       "    <tr>\n",
       "      <th>1</th>\n",
       "      <td>Charlie</td>\n",
       "      <td>37</td>\n",
       "      <td>60000</td>\n",
       "      <td>0.25</td>\n",
       "      <td>NaN</td>\n",
       "    </tr>\n",
       "  </tbody>\n",
       "</table>\n",
       "</div>"
      ],
      "text/plain": [
       "       Nom  Age  Salaire_net  Charge (%)  Salaire_brut\n",
       "0    Alice   23        35000        0.25           NaN\n",
       "1  Charlie   37        60000        0.25           NaN"
      ]
     },
     "execution_count": 88,
     "metadata": {},
     "output_type": "execute_result"
    }
   ],
   "source": [
    "\n",
    "# Accéder aux données de l'onglet \"Données amployés\"\n",
    "df_donnees = list(xls.values())[0]\n",
    "df_donnees"
   ]
  },
  {
   "cell_type": "markdown",
   "id": "4c1e98e7",
   "metadata": {},
   "source": [
    "#### Mise en forme du tableau Excel"
   ]
  },
  {
   "cell_type": "code",
   "execution_count": 90,
   "id": "148d7ef9",
   "metadata": {},
   "outputs": [],
   "source": [
    "from openpyxl import load_workbook\n",
    "from openpyxl.styles import Font, PatternFill, Alignment, Border, Side\n",
    "\n",
    "# Charger le fichier Excel\n",
    "wb = load_workbook(\"Week 2.xlsx\")\n",
    "ws = wb.active\n",
    "\n",
    "# Définir les styles\n",
    "gras_blanc = Font(bold=True, color=\"FFFFFF\")\n",
    "fond_noir = PatternFill(\"solid\", fgColor=\"000000\")\n",
    "align_center = Alignment(horizontal=\"center\")\n",
    "\n",
    "bordure = Border(\n",
    "    left=Side(style='thin'),\n",
    "    right=Side(style='thin'),\n",
    "    top=Side(style='thin'),\n",
    "    bottom=Side(style='thin')\n",
    ")\n",
    "\n",
    "# Appliquer sur l'en-tête (ligne 1)\n",
    "for cell in ws[1]:\n",
    "    cell.font = gras_blanc\n",
    "    cell.fill = fond_noir\n",
    "    cell.alignment = align_center\n",
    "    cell.border = bordure\n",
    "\n",
    "# Appliquer les formats et bordures aux lignes suivantes\n",
    "for row in ws.iter_rows(min_row=2, max_row=ws.max_row, max_col=ws.max_column):\n",
    "    for cell in row:\n",
    "        cell.border = bordure  # encadrer chaque cellule\n",
    "\n",
    "    # Format pourcentage (colonne D)\n",
    "    row[3].number_format = \"0.00%\"\n",
    "\n",
    "    # Format monétaire (colonne C et E) avec séparateur de milliers\n",
    "    row[2].number_format = '#,##0 €'\n",
    "    row[4].number_format = '#,##0 €'\n",
    "\n",
    "# Sauvegarder\n",
    "wb.save(\"Week 2.xlsx\")"
   ]
  },
  {
   "cell_type": "markdown",
   "id": "ea12ef30",
   "metadata": {},
   "source": [
    "Description des styles openpyxl\n",
    "\n",
    "| Élément        | Utilité                                                       |\n",
    "|----------------|----------------------------------------------------------------|\n",
    "| `Font`         | Modifier la **police** : gras, taille, couleur, etc.          |\n",
    "| `PatternFill`  | Appliquer un **fond coloré** à une cellule                    |\n",
    "| `Alignment`    | Contrôler l’**alignement** horizontal ou vertical du contenu  |\n",
    "| `Border`       | Créer une **bordure complète** autour d'une cellule           |\n",
    "| `Side`         | Définir le **style d’un côté de bordure** (fin, épais, etc.)  |"
   ]
  }
 ],
 "metadata": {
  "kernelspec": {
   "display_name": "Python 3",
   "language": "python",
   "name": "python3"
  },
  "language_info": {
   "codemirror_mode": {
    "name": "ipython",
    "version": 3
   },
   "file_extension": ".py",
   "mimetype": "text/x-python",
   "name": "python",
   "nbconvert_exporter": "python",
   "pygments_lexer": "ipython3",
   "version": "3.12.8"
  }
 },
 "nbformat": 4,
 "nbformat_minor": 5
}
