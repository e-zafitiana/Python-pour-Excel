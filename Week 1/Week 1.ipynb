{
 "cells": [
  {
   "cell_type": "markdown",
   "id": "eb3a50ea",
   "metadata": {},
   "source": [
    "### Week 1 - Lire et manipuler un fichier Excel\n",
    "\n",
    "#### Objectifs\n",
    "- Lire un fichier Excel existant avec `pandas`\n",
    "- Explorer et comprendre les données\n",
    "- Effectuer des opérations simples (filtrer, trier, créer des colonnes)\n",
    "- Sauvegarder les données modifiées dans un nouveau fichier Excel"
   ]
  },
  {
   "cell_type": "markdown",
   "id": "040b723f",
   "metadata": {},
   "source": [
    "#### Lire un fichier Excel"
   ]
  },
  {
   "cell_type": "code",
   "execution_count": 3,
   "id": "cd819700",
   "metadata": {},
   "outputs": [
    {
     "data": {
      "text/html": [
       "<div>\n",
       "<style scoped>\n",
       "    .dataframe tbody tr th:only-of-type {\n",
       "        vertical-align: middle;\n",
       "    }\n",
       "\n",
       "    .dataframe tbody tr th {\n",
       "        vertical-align: top;\n",
       "    }\n",
       "\n",
       "    .dataframe thead th {\n",
       "        text-align: right;\n",
       "    }\n",
       "</style>\n",
       "<table border=\"1\" class=\"dataframe\">\n",
       "  <thead>\n",
       "    <tr style=\"text-align: right;\">\n",
       "      <th></th>\n",
       "      <th>Nom</th>\n",
       "      <th>Age</th>\n",
       "      <th>Salaire_net</th>\n",
       "    </tr>\n",
       "  </thead>\n",
       "  <tbody>\n",
       "    <tr>\n",
       "      <th>0</th>\n",
       "      <td>Alice</td>\n",
       "      <td>23</td>\n",
       "      <td>35000</td>\n",
       "    </tr>\n",
       "    <tr>\n",
       "      <th>1</th>\n",
       "      <td>Charlie</td>\n",
       "      <td>37</td>\n",
       "      <td>60000</td>\n",
       "    </tr>\n",
       "  </tbody>\n",
       "</table>\n",
       "</div>"
      ],
      "text/plain": [
       "       Nom  Age  Salaire_net\n",
       "0    Alice   23        35000\n",
       "1  Charlie   37        60000"
      ]
     },
     "execution_count": 3,
     "metadata": {},
     "output_type": "execute_result"
    }
   ],
   "source": [
    "import pandas as pd\n",
    "# Lire un fichier Excel existant\n",
    "df = pd.read_excel(\"Week 0.xlsx\", engine=\"openpyxl\")\n",
    "# Afficher les 5 premières lignes\n",
    "df.head()"
   ]
  },
  {
   "cell_type": "markdown",
   "id": "1303f479",
   "metadata": {},
   "source": [
    "#### Filtrer les données"
   ]
  },
  {
   "cell_type": "code",
   "execution_count": 4,
   "id": "63779f12",
   "metadata": {},
   "outputs": [
    {
     "data": {
      "text/html": [
       "<div>\n",
       "<style scoped>\n",
       "    .dataframe tbody tr th:only-of-type {\n",
       "        vertical-align: middle;\n",
       "    }\n",
       "\n",
       "    .dataframe tbody tr th {\n",
       "        vertical-align: top;\n",
       "    }\n",
       "\n",
       "    .dataframe thead th {\n",
       "        text-align: right;\n",
       "    }\n",
       "</style>\n",
       "<table border=\"1\" class=\"dataframe\">\n",
       "  <thead>\n",
       "    <tr style=\"text-align: right;\">\n",
       "      <th></th>\n",
       "      <th>Nom</th>\n",
       "      <th>Age</th>\n",
       "      <th>Salaire_net</th>\n",
       "    </tr>\n",
       "  </thead>\n",
       "  <tbody>\n",
       "    <tr>\n",
       "      <th>1</th>\n",
       "      <td>Charlie</td>\n",
       "      <td>37</td>\n",
       "      <td>60000</td>\n",
       "    </tr>\n",
       "  </tbody>\n",
       "</table>\n",
       "</div>"
      ],
      "text/plain": [
       "       Nom  Age  Salaire_net\n",
       "1  Charlie   37        60000"
      ]
     },
     "execution_count": 4,
     "metadata": {},
     "output_type": "execute_result"
    }
   ],
   "source": [
    "# Filtrer les employés dont le salaire est supérieur à 40 000\n",
    "df_filtré = df[df[\"Salaire_net\"] > 40000]\n",
    "df_filtré"
   ]
  },
  {
   "cell_type": "markdown",
   "id": "53638341",
   "metadata": {},
   "source": [
    "#### Trier les données"
   ]
  },
  {
   "cell_type": "code",
   "execution_count": 5,
   "id": "50ec0114",
   "metadata": {},
   "outputs": [
    {
     "data": {
      "text/html": [
       "<div>\n",
       "<style scoped>\n",
       "    .dataframe tbody tr th:only-of-type {\n",
       "        vertical-align: middle;\n",
       "    }\n",
       "\n",
       "    .dataframe tbody tr th {\n",
       "        vertical-align: top;\n",
       "    }\n",
       "\n",
       "    .dataframe thead th {\n",
       "        text-align: right;\n",
       "    }\n",
       "</style>\n",
       "<table border=\"1\" class=\"dataframe\">\n",
       "  <thead>\n",
       "    <tr style=\"text-align: right;\">\n",
       "      <th></th>\n",
       "      <th>Nom</th>\n",
       "      <th>Age</th>\n",
       "      <th>Salaire_net</th>\n",
       "    </tr>\n",
       "  </thead>\n",
       "  <tbody>\n",
       "    <tr>\n",
       "      <th>1</th>\n",
       "      <td>Charlie</td>\n",
       "      <td>37</td>\n",
       "      <td>60000</td>\n",
       "    </tr>\n",
       "    <tr>\n",
       "      <th>0</th>\n",
       "      <td>Alice</td>\n",
       "      <td>23</td>\n",
       "      <td>35000</td>\n",
       "    </tr>\n",
       "  </tbody>\n",
       "</table>\n",
       "</div>"
      ],
      "text/plain": [
       "       Nom  Age  Salaire_net\n",
       "1  Charlie   37        60000\n",
       "0    Alice   23        35000"
      ]
     },
     "execution_count": 5,
     "metadata": {},
     "output_type": "execute_result"
    }
   ],
   "source": [
    "# Trier par âge décroissant\n",
    "df_tri = df.sort_values(by=\"Age\", ascending=False)\n",
    "df_tri"
   ]
  },
  {
   "cell_type": "markdown",
   "id": "9e3d396f",
   "metadata": {},
   "source": [
    "#### Créer ou insérer une nouvelle colonne"
   ]
  },
  {
   "cell_type": "code",
   "execution_count": 6,
   "id": "30217a7d",
   "metadata": {},
   "outputs": [
    {
     "data": {
      "text/html": [
       "<div>\n",
       "<style scoped>\n",
       "    .dataframe tbody tr th:only-of-type {\n",
       "        vertical-align: middle;\n",
       "    }\n",
       "\n",
       "    .dataframe tbody tr th {\n",
       "        vertical-align: top;\n",
       "    }\n",
       "\n",
       "    .dataframe thead th {\n",
       "        text-align: right;\n",
       "    }\n",
       "</style>\n",
       "<table border=\"1\" class=\"dataframe\">\n",
       "  <thead>\n",
       "    <tr style=\"text-align: right;\">\n",
       "      <th></th>\n",
       "      <th>Nom</th>\n",
       "      <th>Age</th>\n",
       "      <th>Salaire_net</th>\n",
       "      <th>Salaire_brut</th>\n",
       "    </tr>\n",
       "  </thead>\n",
       "  <tbody>\n",
       "    <tr>\n",
       "      <th>0</th>\n",
       "      <td>Alice</td>\n",
       "      <td>23</td>\n",
       "      <td>35000</td>\n",
       "      <td>43750.0</td>\n",
       "    </tr>\n",
       "    <tr>\n",
       "      <th>1</th>\n",
       "      <td>Charlie</td>\n",
       "      <td>37</td>\n",
       "      <td>60000</td>\n",
       "      <td>75000.0</td>\n",
       "    </tr>\n",
       "  </tbody>\n",
       "</table>\n",
       "</div>"
      ],
      "text/plain": [
       "       Nom  Age  Salaire_net  Salaire_brut\n",
       "0    Alice   23        35000       43750.0\n",
       "1  Charlie   37        60000       75000.0"
      ]
     },
     "execution_count": 6,
     "metadata": {},
     "output_type": "execute_result"
    }
   ],
   "source": [
    "# Ajouter une colonne Salaire brut (ex : 25% de charges)\n",
    "df[\"Salaire_brut\"] = df[\"Salaire_net\"] * 1.25\n",
    "df"
   ]
  },
  {
   "cell_type": "markdown",
   "id": "eb314267",
   "metadata": {},
   "source": [
    "#### Enregistrer le fichier modifié"
   ]
  },
  {
   "cell_type": "code",
   "execution_count": null,
   "id": "8a5077cd",
   "metadata": {},
   "outputs": [],
   "source": [
    "# Sauvegarder dans un nouveau fichier Excel\n",
    "df.to_excel(\"Week 1 V1.xlsx\", index=False, engine=\"openpyxl\")"
   ]
  },
  {
   "cell_type": "code",
   "execution_count": null,
   "id": "3da8e7ee",
   "metadata": {},
   "outputs": [],
   "source": [
    "# Insérer deux colonnes : % de charge et Salaire brut\n",
    "from openpyxl import load_workbook\n",
    "from openpyxl.styles import numbers\n",
    "\n",
    "# Charger le fichier Excel\n",
    "wb = load_workbook(\"Week 0.xlsx\")\n",
    "ws = wb.active\n",
    "\n",
    "# Ajouter les en-têtes\n",
    "ws[\"D1\"] = \"Charge (%)\"\n",
    "ws[\"E1\"] = \"Salaire_brut\"\n",
    "\n",
    "# Remplir les colonnes\n",
    "for row in range(2, ws.max_row + 1):\n",
    "    # Mettre 25 % dans la colonne D\n",
    "    ws[f\"D{row}\"] = 0.25\n",
    "    ws[f\"D{row}\"].number_format = '0.00%'\n",
    "\n",
    "    # Formule dans la colonne E : =C2*(1+D2)\n",
    "    ws[f\"E{row}\"] = f\"=C{row}*(1+D{row})\"\n",
    "    ws[f\"E{row}\"].number_format = numbers.FORMAT_CURRENCY_EUR_SIMPLE\n",
    "\n",
    "wb.save(\"Week 1 V - avec salaire brut.xlsx\")"
   ]
  },
  {
   "cell_type": "code",
   "execution_count": null,
   "id": "797f3042",
   "metadata": {},
   "outputs": [],
   "source": []
  }
 ],
 "metadata": {
  "kernelspec": {
   "display_name": "Python 3",
   "language": "python",
   "name": "python3"
  },
  "language_info": {
   "codemirror_mode": {
    "name": "ipython",
    "version": 3
   },
   "file_extension": ".py",
   "mimetype": "text/x-python",
   "name": "python",
   "nbconvert_exporter": "python",
   "pygments_lexer": "ipython3",
   "version": "3.12.8"
  }
 },
 "nbformat": 4,
 "nbformat_minor": 5
}
